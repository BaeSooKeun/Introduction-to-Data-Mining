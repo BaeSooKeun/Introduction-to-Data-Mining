{
 "cells": [
  {
   "cell_type": "markdown",
   "metadata": {},
   "source": [
    "## 시리즈 - 생성하기 출력"
   ]
  },
  {
   "cell_type": "code",
   "execution_count": null,
   "metadata": {},
   "outputs": [],
   "source": [
    "# 판다스 모듈을 불러옵니다.\n",
    "import pandas as pd"
   ]
  },
  {
   "cell_type": "markdown",
   "metadata": {},
   "source": [
    "* 시리즈(Series)는 객체를 담을 수 있는 1차원 배열 같은 자료구조를 가지고 있다."
   ]
  },
  {
   "cell_type": "code",
   "execution_count": null,
   "metadata": {},
   "outputs": [],
   "source": [
    "# 인덱스 값을 따로 지정하지 않은 경우\n",
    "series_list_1 = pd.Series([1,3,5,7,9]) \n",
    "print(series_list_1)"
   ]
  },
  {
   "cell_type": "code",
   "execution_count": null,
   "metadata": {},
   "outputs": [],
   "source": [
    "print(series_list_1.index)"
   ]
  },
  {
   "cell_type": "code",
   "execution_count": null,
   "metadata": {},
   "outputs": [],
   "source": [
    "print(series_list_1.values)"
   ]
  },
  {
   "cell_type": "code",
   "execution_count": null,
   "metadata": {},
   "outputs": [],
   "source": [
    "# 인덱스 값을 따로 지정한 경우\n",
    "series_list_2 = pd.Series([2,4,6,8,10], index=['a','b','c','d','e'])\n",
    "print(series_list_2)"
   ]
  },
  {
   "cell_type": "code",
   "execution_count": null,
   "metadata": {},
   "outputs": [],
   "source": [
    "print(series_list_2.index)"
   ]
  },
  {
   "cell_type": "code",
   "execution_count": null,
   "metadata": {},
   "outputs": [],
   "source": [
    "print(series_list_2.values)"
   ]
  },
  {
   "cell_type": "markdown",
   "metadata": {},
   "source": [
    "## 시리즈 - 생성하기(딕셔너리)출력"
   ]
  },
  {
   "cell_type": "code",
   "execution_count": null,
   "metadata": {},
   "outputs": [],
   "source": [
    "# 딕셔너리 데이터 타입으로 Series 객체 생성\n",
    "dict_data = {'치킨': 16000, '피자': 20000, '햄버거': 10000, '탕수육': 25000}\n",
    "\n",
    "series_list_a = pd.Series(dict_data)\n",
    "print(series_list_a)"
   ]
  },
  {
   "cell_type": "code",
   "execution_count": null,
   "metadata": {},
   "outputs": [],
   "source": [
    "# 리스트 타입으로 인덱스 값 지정\n",
    "delivery_foods = ['치킨','피자', '탕수육','짜장면']\n",
    "series_list_b = pd.Series(dict_data, index=delivery_foods)\n",
    "print(series_list_b)"
   ]
  },
  {
   "cell_type": "markdown",
   "metadata": {},
   "source": [
    "## 단일 값 및 여러 값 선택 출력\n",
    "* 생성된 시리즈(Series) 타입의 인덱스를 사용하여 해당하는 요소값을 선택할 수 있다."
   ]
  },
  {
   "cell_type": "code",
   "execution_count": null,
   "metadata": {},
   "outputs": [],
   "source": [
    "# 단일 값 찾기\n",
    "print(series_list_a['치킨'])"
   ]
  },
  {
   "cell_type": "code",
   "execution_count": null,
   "metadata": {},
   "outputs": [],
   "source": [
    "# 여러 값 찾기\n",
    "print(series_list_a[['치킨','햄버거']])"
   ]
  },
  {
   "cell_type": "code",
   "execution_count": null,
   "metadata": {},
   "outputs": [],
   "source": [
    "# 조건에 해당 하는 값 찾기\n",
    "print(series_list_a[series_list_a > 19000])"
   ]
  },
  {
   "cell_type": "code",
   "execution_count": null,
   "metadata": {},
   "outputs": [],
   "source": [
    "# 인덱스 유무 확인\n",
    "print('치킨' in series_list_a)"
   ]
  },
  {
   "cell_type": "markdown",
   "metadata": {},
   "source": [
    "## 데이터프레임 - 만들기(개별적으로 만들기)출력\n",
    "* 시리즈(Series): 인덱스를 가지는 1차원 배열\n",
    "* 데이터프레임(DataFrame): 행과 열로 구성된 2차원의 표 형식 -> 데이터 핸들링에 편하게 사용할 수 있다."
   ]
  },
  {
   "cell_type": "code",
   "execution_count": null,
   "metadata": {},
   "outputs": [],
   "source": [
    "# 판다스 모듈을 불러 옵니다.\n",
    "import pandas as pd"
   ]
  },
  {
   "cell_type": "code",
   "execution_count": null,
   "metadata": {},
   "outputs": [],
   "source": [
    "# 비어 있는 DataFrame에 개별적으로 만들기\n",
    "df_profile = pd.DataFrame()\n",
    "\n",
    "df_profile['Sex'] = ['M','M','W','W']\n",
    "df_profile['Age'] = [21,25,23,20]\n",
    "df_profile['Name'] = ['Jihyun', 'Kyoungrok', 'Mina','Minseon']\n",
    "\n",
    "df_profile"
   ]
  },
  {
   "cell_type": "markdown",
   "metadata": {},
   "source": [
    "## 데이터프레임 - 만들기(list, ndarray)출력"
   ]
  },
  {
   "cell_type": "code",
   "execution_count": null,
   "metadata": {},
   "outputs": [],
   "source": [
    "import numpy as np"
   ]
  },
  {
   "cell_type": "code",
   "execution_count": null,
   "metadata": {},
   "outputs": [],
   "source": [
    "# 리스트로 컬럼 지정\n",
    "list_col = ['Sex', 'Age','Name']\n",
    "\n",
    "# 3x3, 2차원 리스트 생성\n",
    "list_a = [['M', 21, 'Jihyun'],\n",
    "          ['M', 25, 'Kyoungrok'],\n",
    "          ['W', 23, 'Mina']]\n",
    "\n",
    "# ndarray 생성\n",
    "array_a = np.array(list_a)\n",
    "\n",
    "# 리스트로 Data Frame 만들기\n",
    "df_list = pd.DataFrame(list_a, columns=list_col) \n",
    "\n",
    "# ndarray로 data frame 만들기\n",
    "df_array = pd.DataFrame(array_a, columns=list_col)"
   ]
  },
  {
   "cell_type": "code",
   "execution_count": null,
   "metadata": {},
   "outputs": [],
   "source": [
    "print(df_list)"
   ]
  },
  {
   "cell_type": "code",
   "execution_count": null,
   "metadata": {},
   "outputs": [],
   "source": [
    "print(df_array)"
   ]
  },
  {
   "cell_type": "code",
   "execution_count": null,
   "metadata": {},
   "outputs": [],
   "source": [
    "print(df_list.shape, df_array.shape)"
   ]
  },
  {
   "cell_type": "markdown",
   "metadata": {},
   "source": [
    "## 데이터 프레임 - 만들기(딕셔너리를 활용하여) 출력"
   ]
  },
  {
   "cell_type": "code",
   "execution_count": null,
   "metadata": {
    "scrolled": true
   },
   "outputs": [],
   "source": [
    "# 딕셔너리를 활용하여 DataFrame 만들기\n",
    "data_dic = {'category': ['fried-chicken', 'pizza', 'hamburg', 'ramen', 'jjajangmyeon'],\n",
    "            'price': [20000, 16000, 5000, 4000, 8000],\n",
    "            'size': [10, 8, 1, 1, 1]}\n",
    "df_devery_foods = pd.DataFrame(data_dic)\n",
    "print(\"df_devery_foods, type: \", type(df_devery_foods))\n",
    "df_devery_foods"
   ]
  },
  {
   "cell_type": "markdown",
   "metadata": {},
   "source": [
    "## 데이터프레임을 리스트, 넘파이 ndaaray, 딕셔너리로 변환 출력"
   ]
  },
  {
   "cell_type": "code",
   "execution_count": null,
   "metadata": {},
   "outputs": [],
   "source": [
    "# DataFrame을 리스트로 변환\n",
    "df_to_list = df_devery_foods.values.tolist()\n",
    "print(type(df_to_list))"
   ]
  },
  {
   "cell_type": "code",
   "execution_count": null,
   "metadata": {},
   "outputs": [],
   "source": [
    "# DataFrame을 넘파이 ndaaray로 변환\n",
    "df_to_ndarray = df_devery_foods.values\n",
    "print(type(df_to_ndarray))"
   ]
  },
  {
   "cell_type": "code",
   "execution_count": null,
   "metadata": {},
   "outputs": [],
   "source": [
    "# DataFrame을 딕셔너리로 변환\n",
    "df_to_dic = df_devery_foods.to_dict('list')\n",
    "print(type(df_to_dic))"
   ]
  },
  {
   "cell_type": "code",
   "execution_count": null,
   "metadata": {},
   "outputs": [],
   "source": [
    "print(df_to_list, \"\\n\")"
   ]
  },
  {
   "cell_type": "code",
   "execution_count": null,
   "metadata": {},
   "outputs": [],
   "source": [
    "print(df_to_ndarray, \"\\n\")"
   ]
  },
  {
   "cell_type": "code",
   "execution_count": null,
   "metadata": {},
   "outputs": [],
   "source": [
    "print(df_to_dic, \"\\n\")"
   ]
  },
  {
   "cell_type": "markdown",
   "metadata": {},
   "source": [
    "## 데이터프레임 - 만들기(CSV 파일)"
   ]
  },
  {
   "cell_type": "code",
   "execution_count": null,
   "metadata": {},
   "outputs": [],
   "source": [
    "# csv 파일 불러와서 만들기\n",
    "# csv 파일을 불러와서 df_spotify DataFrame에 담습니다.\n",
    "df_spotify = pd.read_csv('spotify_global_2019_most_streamed_tracks_audio_features.csv')\n",
    "df_spotify"
   ]
  },
  {
   "cell_type": "markdown",
   "metadata": {},
   "source": [
    "## 데이터프레임 - head() 함수"
   ]
  },
  {
   "cell_type": "code",
   "execution_count": null,
   "metadata": {},
   "outputs": [],
   "source": [
    "# 상위 5개 행(row) 출력\n",
    "df_spotify.head()"
   ]
  },
  {
   "cell_type": "code",
   "execution_count": null,
   "metadata": {},
   "outputs": [],
   "source": [
    "df_spotify.tail()"
   ]
  },
  {
   "cell_type": "markdown",
   "metadata": {},
   "source": [
    "## 데이터프레임 데이터 구조 확인을 위한 함수들 출력"
   ]
  },
  {
   "cell_type": "code",
   "execution_count": null,
   "metadata": {},
   "outputs": [],
   "source": [
    "print(df_spotify.index, \"\\n\")"
   ]
  },
  {
   "cell_type": "code",
   "execution_count": null,
   "metadata": {},
   "outputs": [],
   "source": [
    "print(df_spotify.columns,\"\\n\")"
   ]
  },
  {
   "cell_type": "code",
   "execution_count": null,
   "metadata": {},
   "outputs": [],
   "source": [
    "print(df_spotify.values,\"\\n\")"
   ]
  },
  {
   "cell_type": "code",
   "execution_count": null,
   "metadata": {},
   "outputs": [],
   "source": [
    "print(df_spotify.shape,\"\\n\")"
   ]
  },
  {
   "cell_type": "code",
   "execution_count": null,
   "metadata": {},
   "outputs": [],
   "source": [
    "print(df_spotify.info(),\"\\n\")"
   ]
  },
  {
   "cell_type": "code",
   "execution_count": null,
   "metadata": {},
   "outputs": [],
   "source": [
    "df_spotify.describe()"
   ]
  },
  {
   "cell_type": "markdown",
   "metadata": {},
   "source": [
    "## 인덱싱, 슬라이싱, 불리언 출력"
   ]
  },
  {
   "cell_type": "code",
   "execution_count": null,
   "metadata": {},
   "outputs": [],
   "source": [
    "df_spotify['Artist']"
   ]
  },
  {
   "cell_type": "code",
   "execution_count": null,
   "metadata": {},
   "outputs": [],
   "source": [
    "# DataFrame['컬럼명']의 경우 Series 타입으로 반환\n",
    "print(type(df_spotify['Artist']))"
   ]
  },
  {
   "cell_type": "code",
   "execution_count": null,
   "metadata": {},
   "outputs": [],
   "source": [
    "df_spotify[['Rank','Artist']]"
   ]
  },
  {
   "cell_type": "code",
   "execution_count": null,
   "metadata": {},
   "outputs": [],
   "source": [
    "# 1개의 컬럼값\n",
    "print(df_spotify['Artist'].values)\n",
    "print()\n",
    "print(type(df_spotify['Artist'].values))"
   ]
  },
  {
   "cell_type": "code",
   "execution_count": null,
   "metadata": {},
   "outputs": [],
   "source": [
    "# 1차원 ndarray\n",
    "print(df_spotify['Artist'].values.shape)"
   ]
  },
  {
   "cell_type": "code",
   "execution_count": null,
   "metadata": {},
   "outputs": [],
   "source": [
    "# 2개의 컬럼값\n",
    "print(df_spotify[['Rank','Artist']].values)\n",
    "print()\n",
    "print(type(df_spotify[['Rank','Artist']].values))"
   ]
  },
  {
   "cell_type": "code",
   "execution_count": null,
   "metadata": {},
   "outputs": [],
   "source": [
    "# 2차원 ndarray\n",
    "print(df_spotify[['Rank','Artist']].values.shape) "
   ]
  },
  {
   "cell_type": "code",
   "execution_count": null,
   "metadata": {},
   "outputs": [],
   "source": [
    "df_spotify[0:3]"
   ]
  },
  {
   "cell_type": "code",
   "execution_count": null,
   "metadata": {
    "scrolled": true
   },
   "outputs": [],
   "source": [
    "df_spotify[0:3].values"
   ]
  },
  {
   "cell_type": "code",
   "execution_count": null,
   "metadata": {},
   "outputs": [],
   "source": [
    "# 특정 조건을 만족하는 데이터값\n",
    "# Artist가 BTS인 것\n",
    "\n",
    "df_spotify[df_spotify.Artist == 'BTS']"
   ]
  },
  {
   "cell_type": "code",
   "execution_count": null,
   "metadata": {},
   "outputs": [],
   "source": [
    "# Artist_popularity가 92보다 큰 것들만 출력\n",
    "\n",
    "df_popularity = df_spotify[df_spotify.Artist_popularity > 92]\n",
    "df_popularity[['Artist_popularity', 'Rank', 'Streams','Artist', 'Artist_follower']]"
   ]
  },
  {
   "cell_type": "code",
   "execution_count": null,
   "metadata": {},
   "outputs": [],
   "source": [
    "# 가장 많은 곡이 리스트에 있는 가수를 보고자 할 때.\n",
    "\n",
    "df_spotify_rank = df_spotify['Artist'].value_counts()\n",
    "df_spotify_rank"
   ]
  },
  {
   "cell_type": "code",
   "execution_count": null,
   "metadata": {
    "scrolled": true
   },
   "outputs": [],
   "source": [
    "'BTS' in df_spotify_rank"
   ]
  },
  {
   "cell_type": "code",
   "execution_count": null,
   "metadata": {},
   "outputs": [],
   "source": [
    "df_spotify_rank[df_spotify_rank.index == 'BTS']"
   ]
  },
  {
   "cell_type": "code",
   "execution_count": null,
   "metadata": {},
   "outputs": [],
   "source": [
    "df_spotify_rank.values"
   ]
  },
  {
   "cell_type": "markdown",
   "metadata": {},
   "source": [
    "* 한 가지 조건에 원하는 컬럼만 보고 싶을 때는 조건 뒤에 원하는 컬럼을 명시하면 된다."
   ]
  },
  {
   "cell_type": "code",
   "execution_count": null,
   "metadata": {},
   "outputs": [],
   "source": [
    "# tempo: The overall estimated tempo of a track in beats per minute (BPM).\n",
    "\n",
    "print(df_spotify.tempo.mean())\n",
    "df_spotify[df_spotify['tempo'] > 122][['Rank','Track Name','Artist', 'tempo']].head()"
   ]
  },
  {
   "cell_type": "markdown",
   "metadata": {},
   "source": [
    "* 복합 조건에 원하는 컬럼을 보고 싶을 때는 각각의 조건을 괄호()로 표시하고, &와 | 기호로 각각 AND와 OR 조건을 나타낸다."
   ]
  },
  {
   "cell_type": "code",
   "execution_count": null,
   "metadata": {},
   "outputs": [],
   "source": [
    "# energy column: energetic tracks feel fast, loud, and noisy.\n",
    "df_spotify[ (df_spotify['Artist'] == 'BTS') & (df_spotify['energy'] > 0.8)][['Rank','Track Name','Artist','energy']].head()"
   ]
  },
  {
   "cell_type": "markdown",
   "metadata": {},
   "source": [
    "## reindex, reset_index 출력"
   ]
  },
  {
   "cell_type": "code",
   "execution_count": null,
   "metadata": {},
   "outputs": [],
   "source": [
    "df_reindex = pd.DataFrame(np.arange(16).reshape((4, 4)), index=['a', 'b', 'c','d'], columns=['Seoul', 'Busan', 'Incheon','Ulsan'])\n",
    "df_reindex.head()"
   ]
  },
  {
   "cell_type": "code",
   "execution_count": null,
   "metadata": {},
   "outputs": [],
   "source": [
    "# reindex를 다시 호출하면 새로운 색인에 맞춰서 재배열 해줌.\n",
    "df_new_reindex = df_reindex.reindex(['b','c','a', 'd','e'])\n",
    "df_new_reindex"
   ]
  },
  {
   "cell_type": "code",
   "execution_count": null,
   "metadata": {},
   "outputs": [],
   "source": [
    "# reset index\n",
    "\n",
    "df_artist_bts = df_spotify[df_spotify.Artist == 'BTS']\n",
    "df_artist_bts.head()"
   ]
  },
  {
   "cell_type": "code",
   "execution_count": null,
   "metadata": {},
   "outputs": [],
   "source": [
    "print(df_artist_bts.index)\n",
    "\n",
    "# reset_index (기존 인덱스 유지)\n",
    "df_reset_index_1 = df_artist_bts.reset_index(inplace=False)\n",
    "\n",
    "# reset_index (기존 인덱스 삭제, drop=True)\n",
    "df_reset_index_2 = df_artist_bts.reset_index(inplace=False, drop=True)\n"
   ]
  },
  {
   "cell_type": "code",
   "execution_count": null,
   "metadata": {},
   "outputs": [],
   "source": [
    "df_reset_index_1.head()   # 기존 인덱스를 유지한 경우"
   ]
  },
  {
   "cell_type": "code",
   "execution_count": null,
   "metadata": {},
   "outputs": [],
   "source": [
    "df_reset_index_2.head()   # 기존 인덱스를 삭제한 경우"
   ]
  },
  {
   "cell_type": "markdown",
   "metadata": {},
   "source": [
    "## 데이터프레임 - column 추가 출력"
   ]
  },
  {
   "cell_type": "code",
   "execution_count": null,
   "metadata": {
    "scrolled": true
   },
   "outputs": [],
   "source": [
    "df_spotify_2 = pd.DataFrame(df_spotify,copy= True)\n",
    "df_spotify_2['Rank_a'] = 0\n",
    "df_spotify_2.head()"
   ]
  },
  {
   "cell_type": "code",
   "execution_count": null,
   "metadata": {},
   "outputs": [],
   "source": [
    "df_spotify_2['Rank_b'] = df_spotify_2['Rank'] * 10\n",
    "df_spotify_2['Streams_and_Artist_follower'] = df_spotify_2['Streams'] + df_spotify_2['Artist_follower'] \n",
    "df_spotify_2.head()"
   ]
  },
  {
   "cell_type": "code",
   "execution_count": null,
   "metadata": {},
   "outputs": [],
   "source": [
    "df_spotify_2['Rank_b'] = df_spotify_2['Rank_b'] * 0.01\n",
    "df_spotify_2.head()"
   ]
  },
  {
   "cell_type": "markdown",
   "metadata": {},
   "source": [
    "## 데이터프레임 - 삭제\n",
    "* DataFrame에서 axis=0은 행, axis=1은 열을 의미한다."
   ]
  },
  {
   "cell_type": "code",
   "execution_count": null,
   "metadata": {},
   "outputs": [],
   "source": [
    "df_drop_spotify = df_spotify_2.drop(0)   # index 번호 0, 즉, 1번째 행을 삭제한다.\n",
    "df_drop_spotify.head(3)"
   ]
  },
  {
   "cell_type": "code",
   "execution_count": null,
   "metadata": {},
   "outputs": [],
   "source": [
    "df_drop_spotify_2 = df_spotify_2.drop(0, axis=0)\n",
    "df_drop_spotify_2.head(3)"
   ]
  },
  {
   "cell_type": "code",
   "execution_count": null,
   "metadata": {},
   "outputs": [],
   "source": [
    "df_drop_spotify_3 = df_spotify_2.drop([0,1,2])   # index 번호 [0, 1, 2], 즉, 1번째, 2번째, 3번째 행을 삭제한다.\n",
    "df_drop_spotify_3.head(3)"
   ]
  },
  {
   "cell_type": "code",
   "execution_count": null,
   "metadata": {},
   "outputs": [],
   "source": [
    "df_drop_spotify_4 = df_spotify_2.drop('Track_id', axis=1)\n",
    "df_drop_spotify_4.head(3)"
   ]
  },
  {
   "cell_type": "code",
   "execution_count": null,
   "metadata": {},
   "outputs": [],
   "source": [
    "df_drop_spotify_5 = df_spotify_2.drop(['Country','Streams','Track_id','URL'], axis=1)\n",
    "df_drop_spotify_5.head(3)"
   ]
  },
  {
   "cell_type": "code",
   "execution_count": null,
   "metadata": {},
   "outputs": [],
   "source": [
    "df_spotify_2.head()"
   ]
  },
  {
   "cell_type": "markdown",
   "metadata": {},
   "source": [
    "* drop()를 쓴다고 해서 데이터프레임의 데이터가 삭제되는 것은 아니다. 실제로 데이터프레임의 데이터를 삭제하고 싶으면 inplace=True 옵션을 사용해야 한다."
   ]
  },
  {
   "cell_type": "code",
   "execution_count": null,
   "metadata": {
    "scrolled": true
   },
   "outputs": [],
   "source": [
    "df_spotify_2.drop(['Country','Streams','Track_id','URL'], axis=1, inplace=True)\n",
    "df_spotify_2.head(3)"
   ]
  },
  {
   "cell_type": "code",
   "execution_count": null,
   "metadata": {},
   "outputs": [],
   "source": [
    "df_spotify_2.head()"
   ]
  },
  {
   "cell_type": "markdown",
   "metadata": {},
   "source": [
    "## 데이터 추출(loc)\n",
    "* 인덱스를 기반으로 데이터를 추출한다.\n",
    "* [행, 열]을 찾아서 데이터를 추출할 수 있다."
   ]
  },
  {
   "cell_type": "code",
   "execution_count": null,
   "metadata": {},
   "outputs": [],
   "source": [
    "df_spotify.head(1)"
   ]
  },
  {
   "cell_type": "code",
   "execution_count": null,
   "metadata": {},
   "outputs": [],
   "source": [
    "df_spotify.loc[0]"
   ]
  },
  {
   "cell_type": "code",
   "execution_count": null,
   "metadata": {},
   "outputs": [],
   "source": [
    "df_spotify.loc[0,'Artist']"
   ]
  },
  {
   "cell_type": "code",
   "execution_count": null,
   "metadata": {},
   "outputs": [],
   "source": [
    "# 인덱스 86번의 데이터 중 Rank, Artist, Track Name 확인\n",
    "df_spotify.loc[86,['Rank','Artist','Track Name']]"
   ]
  },
  {
   "cell_type": "code",
   "execution_count": null,
   "metadata": {},
   "outputs": [],
   "source": [
    "df_spotify[df_spotify['Artist'] == 'BTS']"
   ]
  },
  {
   "cell_type": "code",
   "execution_count": null,
   "metadata": {},
   "outputs": [],
   "source": [
    "df_spotify[df_spotify['Artist'] == 'BTS'].index"
   ]
  },
  {
   "cell_type": "code",
   "execution_count": null,
   "metadata": {},
   "outputs": [],
   "source": [
    "df_spotify.loc[[86, 464, 676, 678, 681, 710, 725, 778, 883, 1057, 1265],['Rank','Artist','Track Name']]"
   ]
  },
  {
   "cell_type": "markdown",
   "metadata": {},
   "source": [
    "* loc도 슬라이싱(여기서는 index 번호)을 사용하여 데이터를 추출할 수 있다."
   ]
  },
  {
   "cell_type": "code",
   "execution_count": null,
   "metadata": {},
   "outputs": [],
   "source": [
    "df_spotify.loc[0:2,['Rank','Track Name','Artist']]"
   ]
  },
  {
   "cell_type": "code",
   "execution_count": null,
   "metadata": {},
   "outputs": [],
   "source": [
    "# Rank와 Artist의 모든 행을 보고 싶을 경우\n",
    "df_spotify.loc[:,['Rank','Track Name','Artist']]"
   ]
  },
  {
   "cell_type": "code",
   "execution_count": null,
   "metadata": {},
   "outputs": [],
   "source": [
    "# BTS 곡의 행(row)index를 지정하고 모든 열을 보고 싶을 경우\n",
    "df_spotify.loc[[86, 464, 676, 678, 681, 710, 725, 778, 883, 1057, 1265],:]"
   ]
  },
  {
   "cell_type": "markdown",
   "metadata": {},
   "source": [
    "## 데이터 추출(iloc)\n",
    "* 정수 인덱스로 데이터를 추출할 수 있다."
   ]
  },
  {
   "cell_type": "code",
   "execution_count": null,
   "metadata": {},
   "outputs": [],
   "source": [
    "df_spotify.head()"
   ]
  },
  {
   "cell_type": "code",
   "execution_count": null,
   "metadata": {},
   "outputs": [],
   "source": [
    "# 행(인덱스 3번째 ~ 5번째), 열(1번 ~ 5번째) 데이터\n",
    "\n",
    "df_spotify.iloc[3:6, 1:6]"
   ]
  },
  {
   "cell_type": "code",
   "execution_count": null,
   "metadata": {},
   "outputs": [],
   "source": [
    "# 콤마(,)로 행과 열을 지정해서 데이터를 가져 올 수 있다.\n",
    "# 행(해당 인덱스), 열(1, 4, 5번째)\n",
    "\n",
    "df_spotify.iloc[[86, 464, 676, 678, 681, 710, 725, 778, 883, 1057, 1265], [1,4, 5]]"
   ]
  },
  {
   "cell_type": "code",
   "execution_count": null,
   "metadata": {},
   "outputs": [],
   "source": [
    "# 콜론(:)을 사용하면 전체의 의미\n",
    "# 행(index 번호)은 범위를 주었고 열은 전체 선택\n",
    "\n",
    "df_spotify.iloc[1:3,:]"
   ]
  },
  {
   "cell_type": "code",
   "execution_count": null,
   "metadata": {},
   "outputs": [],
   "source": [
    "df_spotify.iloc[:, 1:6]   # 열은 1, 2, 3, 4, 5번째 열"
   ]
  },
  {
   "cell_type": "code",
   "execution_count": null,
   "metadata": {
    "scrolled": true
   },
   "outputs": [],
   "source": [
    "df_spotify.head()"
   ]
  },
  {
   "cell_type": "markdown",
   "metadata": {},
   "source": [
    "## 정렬\n",
    "1. sort_values(): 입력된 파라미터 기준으로 오름차순, 내림차순으로 정렬한다. 기본적으로 오름차순으로 정렬된다.\n",
    "2. sort_index() : 알파벳, 숫자 순으로 데이터를 정렬한다. 기본적으로 오름차순으로 정렬된다."
   ]
  },
  {
   "cell_type": "code",
   "execution_count": null,
   "metadata": {},
   "outputs": [],
   "source": [
    "df_sort = df_spotify[['Rank','Streams','Track Name','Artist','Artist_popularity','Artist_follower']]\n",
    "df_sort.head()"
   ]
  },
  {
   "cell_type": "code",
   "execution_count": null,
   "metadata": {},
   "outputs": [],
   "source": [
    "# ascending을 따로 설정하지 않은 경우 기본은 ascending=True, 오름차순으로 정렬)\n",
    "df_sort.sort_values(by='Streams').head()"
   ]
  },
  {
   "cell_type": "code",
   "execution_count": null,
   "metadata": {},
   "outputs": [],
   "source": [
    "df_sort.sort_values(by=['Artist_popularity','Streams'],ascending=False)"
   ]
  },
  {
   "cell_type": "code",
   "execution_count": null,
   "metadata": {},
   "outputs": [],
   "source": [
    "df_sort_values = df_sort.sort_values(by=['Artist_popularity','Streams'],ascending=False)\n",
    "df_sort_values.head()"
   ]
  },
  {
   "cell_type": "code",
   "execution_count": null,
   "metadata": {},
   "outputs": [],
   "source": [
    "df_sort_values.sort_index().head()"
   ]
  },
  {
   "cell_type": "code",
   "execution_count": null,
   "metadata": {},
   "outputs": [],
   "source": [
    "df_sort_values.sort_index(axis=1).head()"
   ]
  },
  {
   "cell_type": "markdown",
   "metadata": {},
   "source": [
    "## 통계 및 수학 함수 출력"
   ]
  },
  {
   "cell_type": "code",
   "execution_count": null,
   "metadata": {},
   "outputs": [],
   "source": [
    "# 리스트에 있는 BTS 음원 Stream 횟수\n",
    "\n",
    "print(\"BTS 음원 모든곡의 Stream 총 횟수: \", df_artist_bts['Streams'].sum())\n",
    "print(\"BTS 음원 중 한곡의 minimum Stream 횟수: \", df_artist_bts['Streams'].min())\n",
    "print(\"BTS 음원 중 한곡의 maximum Stream 횟수: \", df_artist_bts['Streams'].max())\n",
    "print(\"BTS 음원 중 한곡의 minimum Stream 의 index: \", df_artist_bts['Streams'].idxmin())   # 최소값 인덱스\n",
    "print(\"BTS 음원 중 한곡의 maximum Stream 의 index: \", df_artist_bts['Streams'].idxmax())   # 최대값 인덱스\n",
    "print(\"BTS 음원 모든곡의 Stream 횟수의 평균: \", df_artist_bts['Streams'].mean())\n",
    "print(\"BTS 음원 모든곡의 Stream 중간값: \", df_artist_bts['Streams'].median())"
   ]
  },
  {
   "cell_type": "code",
   "execution_count": null,
   "metadata": {},
   "outputs": [],
   "source": [
    "df_artist_bts.describe()"
   ]
  },
  {
   "cell_type": "code",
   "execution_count": null,
   "metadata": {},
   "outputs": [],
   "source": [
    "# unique() - 유일값을 확인 할 수 있습니다.\n",
    "\n",
    "unique = df_spotify['Artist'].unique()\n",
    "unique"
   ]
  },
  {
   "cell_type": "code",
   "execution_count": null,
   "metadata": {},
   "outputs": [],
   "source": [
    "df_unique = pd.DataFrame(unique)\n",
    "df_unique"
   ]
  },
  {
   "cell_type": "markdown",
   "metadata": {},
   "source": [
    "## 함수 적용 - apply lambda"
   ]
  },
  {
   "cell_type": "code",
   "execution_count": null,
   "metadata": {},
   "outputs": [],
   "source": [
    "df_lambda = pd.DataFrame(df_spotify,copy= True)\n",
    "df_lambda.head()"
   ]
  },
  {
   "cell_type": "code",
   "execution_count": null,
   "metadata": {},
   "outputs": [],
   "source": [
    "print(\"평균값: \", df_lambda['Streams'].mean())\n",
    "print(\"중간값: \", df_lambda['Streams'].median())"
   ]
  },
  {
   "cell_type": "code",
   "execution_count": null,
   "metadata": {},
   "outputs": [],
   "source": [
    "streams_median = df_spotify['Streams'].median()\n",
    "streams_median= int(streams_median)\n",
    "df_lambda['Stream_counts'] = df_lambda['Streams'].apply(lambda x: x - streams_median)\n",
    "df_lambda[['Streams','Stream_counts']].head()"
   ]
  },
  {
   "cell_type": "code",
   "execution_count": null,
   "metadata": {},
   "outputs": [],
   "source": [
    "df_lambda[df_lambda['Stream_counts'] < 0][['Rank','Streams','Stream_counts','Track Name','Artist']].head()"
   ]
  },
  {
   "cell_type": "code",
   "execution_count": null,
   "metadata": {},
   "outputs": [],
   "source": [
    "# 람다식에서 if 조건문 사용\n",
    "df_lambda['Stream_level'] = df_lambda['Streams'].apply(lambda x: 'Above_median' if 0 < x - streams_median else 'Under_median')\n",
    "df_lambda[['Streams','Stream_counts','Stream_level']].head()"
   ]
  },
  {
   "cell_type": "code",
   "execution_count": null,
   "metadata": {},
   "outputs": [],
   "source": [
    "df_lambda[['Streams','Stream_counts','Stream_level']].tail()"
   ]
  },
  {
   "cell_type": "code",
   "execution_count": null,
   "metadata": {
    "scrolled": true
   },
   "outputs": [],
   "source": [
    "df_lambda[df_lambda['Artist'] == 'BTS'][['Streams','Stream_counts','Track Name','Artist','Stream_level']]"
   ]
  }
 ],
 "metadata": {
  "kernelspec": {
   "display_name": "Python 3 (ipykernel)",
   "language": "python",
   "name": "python3"
  },
  "language_info": {
   "codemirror_mode": {
    "name": "ipython",
    "version": 3
   },
   "file_extension": ".py",
   "mimetype": "text/x-python",
   "name": "python",
   "nbconvert_exporter": "python",
   "pygments_lexer": "ipython3",
   "version": "3.11.5"
  },
  "toc": {
   "base_numbering": 1,
   "nav_menu": {},
   "number_sections": true,
   "sideBar": true,
   "skip_h1_title": false,
   "title_cell": "Table of Contents",
   "title_sidebar": "Contents",
   "toc_cell": false,
   "toc_position": {
    "height": "calc(100% - 180px)",
    "left": "10px",
    "top": "150px",
    "width": "216px"
   },
   "toc_section_display": true,
   "toc_window_display": true
  },
  "varInspector": {
   "cols": {
    "lenName": 16,
    "lenType": 16,
    "lenVar": 40
   },
   "kernels_config": {
    "python": {
     "delete_cmd_postfix": "",
     "delete_cmd_prefix": "del ",
     "library": "var_list.py",
     "varRefreshCmd": "print(var_dic_list())"
    },
    "r": {
     "delete_cmd_postfix": ") ",
     "delete_cmd_prefix": "rm(",
     "library": "var_list.r",
     "varRefreshCmd": "cat(var_dic_list()) "
    }
   },
   "types_to_exclude": [
    "module",
    "function",
    "builtin_function_or_method",
    "instance",
    "_Feature"
   ],
   "window_display": false
  }
 },
 "nbformat": 4,
 "nbformat_minor": 2
}
