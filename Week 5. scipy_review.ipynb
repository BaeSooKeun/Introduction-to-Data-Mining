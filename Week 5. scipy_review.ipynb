{
 "cells": [
  {
   "cell_type": "code",
   "execution_count": 12,
   "metadata": {
    "colab": {},
    "colab_type": "code",
    "id": "K0rhj4cBsbX-"
   },
   "outputs": [],
   "source": [
    "import numpy as np\n",
    "from scipy import linalg"
   ]
  },
  {
   "cell_type": "code",
   "execution_count": 13,
   "metadata": {
    "colab": {},
    "colab_type": "code",
    "id": "SYg_e9T3tGvI"
   },
   "outputs": [
    {
     "data": {
      "text/plain": [
       "array([[ 1.,  5.,  0.],\n",
       "       [ 2.,  4., -1.],\n",
       "       [ 0., -2.,  0.]])"
      ]
     },
     "execution_count": 13,
     "metadata": {},
     "output_type": "execute_result"
    }
   ],
   "source": [
    "A1 = np.array([[1,5,0],[2,4,-1],[0,-2,0]], dtype=np.float64)\n",
    "A1"
   ]
  },
  {
   "cell_type": "code",
   "execution_count": 14,
   "metadata": {
    "colab": {},
    "colab_type": "code",
    "id": "Ib9VK9IAtRyo"
   },
   "outputs": [
    {
     "data": {
      "text/plain": [
       "array([[ 1., -4.,  2.],\n",
       "       [-2.,  8., -9.],\n",
       "       [-1.,  7.,  0.]])"
      ]
     },
     "execution_count": 14,
     "metadata": {},
     "output_type": "execute_result"
    }
   ],
   "source": [
    "A2 = np.array([[1,-4,2],[-2,8,-9],[-1,7,0]], dtype=np.float64)\n",
    "A2"
   ]
  },
  {
   "cell_type": "code",
   "execution_count": 15,
   "metadata": {
    "colab": {},
    "colab_type": "code",
    "id": "pry5WmZetiFu"
   },
   "outputs": [
    {
     "data": {
      "text/plain": [
       "-2.0"
      ]
     },
     "execution_count": 15,
     "metadata": {},
     "output_type": "execute_result"
    }
   ],
   "source": [
    "# 행렬식 구하기\n",
    "det1 = linalg.det(A1)\n",
    "det1"
   ]
  },
  {
   "cell_type": "code",
   "execution_count": 16,
   "metadata": {
    "colab": {},
    "colab_type": "code",
    "id": "ghWO1r4vt-P3"
   },
   "outputs": [
    {
     "data": {
      "text/plain": [
       "15.0"
      ]
     },
     "execution_count": 16,
     "metadata": {},
     "output_type": "execute_result"
    }
   ],
   "source": [
    "det2 = linalg.det(A2)\n",
    "det2"
   ]
  },
  {
   "cell_type": "code",
   "execution_count": 17,
   "metadata": {
    "colab": {},
    "colab_type": "code",
    "id": "NeGdAWovuDD9"
   },
   "outputs": [
    {
     "data": {
      "text/plain": [
       "array([[1., 2., 1.],\n",
       "       [2., 1., 3.],\n",
       "       [1., 3., 1.]])"
      ]
     },
     "execution_count": 17,
     "metadata": {},
     "output_type": "execute_result"
    }
   ],
   "source": [
    "A3 = np.array([[1,2,1],[2,1,3],[1,3,1]], dtype=np.float64)\n",
    "A3"
   ]
  },
  {
   "cell_type": "code",
   "execution_count": 18,
   "metadata": {
    "colab": {},
    "colab_type": "code",
    "id": "y3xnJagZuso5"
   },
   "outputs": [
    {
     "data": {
      "text/plain": [
       "array([[ 8., -1., -5.],\n",
       "       [-1.,  0.,  1.],\n",
       "       [-5.,  1.,  3.]])"
      ]
     },
     "execution_count": 18,
     "metadata": {},
     "output_type": "execute_result"
    }
   ],
   "source": [
    "inv_A3 = linalg.inv(A3)\n",
    "inv_A3"
   ]
  },
  {
   "cell_type": "code",
   "execution_count": 19,
   "metadata": {},
   "outputs": [
    {
     "data": {
      "text/plain": [
       "array([[1., 0., 0.],\n",
       "       [0., 1., 0.],\n",
       "       [0., 0., 1.]])"
      ]
     },
     "execution_count": 19,
     "metadata": {},
     "output_type": "execute_result"
    }
   ],
   "source": [
    "A3 @ inv_A3"
   ]
  },
  {
   "cell_type": "markdown",
   "metadata": {
    "colab_type": "text",
    "id": "_GlpjMmOwvpv"
   },
   "source": [
    "### Ax = b 풀기"
   ]
  },
  {
   "cell_type": "code",
   "execution_count": 20,
   "metadata": {
    "colab": {},
    "colab_type": "code",
    "id": "BFYtjzthvCae"
   },
   "outputs": [],
   "source": [
    "b = np.ones((3,), dtype=np.float64)\n",
    "A_sing = np.array([[1,3,4],[-4,2,-6],[-3,-2,-7]], dtype=np.float64) # singular matrix\n",
    "A_gen = np.array([[0,1,2],[1,0,3],[4,-3,8]], dtype=np.float64) # 대상행렬의 속성을 잘 모르는 경우\n",
    "A_sym = np.array([[1,2,1],[2,1,3],[1,3,1]], dtype=np.float64) # symmetric matrix\n",
    "A_sym_c = np.array([[1,2-1j,1+2j],[2-1j,1,3],[1+2j,3,1]], dtype=np.complex128) # symmetric complex matrix\n",
    "A_her = np.array([[1,2+1j,1-2j],[2-1j,1,3],[1+2j,3,1]], dtype=np.complex128) # hermitian matrix\n",
    "A_pos = np.array([[2,-1,0],[-1,2,-1],[0,-1,2]], dtype=np.float64) # positive definite matrix"
   ]
  },
  {
   "cell_type": "code",
   "execution_count": 21,
   "metadata": {
    "colab": {},
    "colab_type": "code",
    "id": "CPrV5j2J1Mma"
   },
   "outputs": [],
   "source": [
    "#x_sing = linalg.solve(A_sing, b)"
   ]
  },
  {
   "cell_type": "code",
   "execution_count": 22,
   "metadata": {
    "colab": {},
    "colab_type": "code",
    "id": "uKcnmsWr1aoL"
   },
   "outputs": [
    {
     "data": {
      "text/plain": [
       "array([ 1.,  1., -0.])"
      ]
     },
     "execution_count": 22,
     "metadata": {},
     "output_type": "execute_result"
    }
   ],
   "source": [
    "x_gen = linalg.solve(A_gen,b)\n",
    "x_gen"
   ]
  },
  {
   "cell_type": "code",
   "execution_count": 23,
   "metadata": {
    "colab": {},
    "colab_type": "code",
    "id": "lURtwCKK40MK"
   },
   "outputs": [
    {
     "data": {
      "text/plain": [
       "array([0., 0., 0.])"
      ]
     },
     "execution_count": 23,
     "metadata": {},
     "output_type": "execute_result"
    }
   ],
   "source": [
    "A_gen@x_gen-b"
   ]
  },
  {
   "cell_type": "code",
   "execution_count": 24,
   "metadata": {
    "colab": {},
    "colab_type": "code",
    "id": "zbyzgUAPz-96"
   },
   "outputs": [
    {
     "data": {
      "text/plain": [
       "array([ 2.,  0., -1.])"
      ]
     },
     "execution_count": 24,
     "metadata": {},
     "output_type": "execute_result"
    }
   ],
   "source": [
    "# https://docs.scipy.org/doc/scipy/reference/generated/scipy.linalg.solve.html#scipy.linalg.solve\n",
    "\n",
    "x_sym = linalg.solve(A_sym, b, assume_a=\"sym\")  \n",
    "x_sym"
   ]
  },
  {
   "cell_type": "code",
   "execution_count": 25,
   "metadata": {
    "colab": {},
    "colab_type": "code",
    "id": "iTrUexbI1CiD"
   },
   "outputs": [
    {
     "name": "stdout",
     "output_type": "stream",
     "text": [
      "[0. 0. 0.]\n"
     ]
    }
   ],
   "source": [
    "print(A_sym@x_sym-b)"
   ]
  },
  {
   "cell_type": "code",
   "execution_count": 26,
   "metadata": {
    "colab": {},
    "colab_type": "code",
    "id": "w-kqifpm4x1I"
   },
   "outputs": [
    {
     "data": {
      "text/plain": [
       "array([0.00689655+0.11724138j, 0.35172414-0.02068966j,\n",
       "       0.17241379-0.06896552j])"
      ]
     },
     "execution_count": 26,
     "metadata": {},
     "output_type": "execute_result"
    }
   ],
   "source": [
    "x_sym_c = linalg.solve(A_sym_c, b, assume_a=\"sym\")\n",
    "x_sym_c"
   ]
  },
  {
   "cell_type": "code",
   "execution_count": 27,
   "metadata": {
    "colab": {},
    "colab_type": "code",
    "id": "feWgn1gc5-8D"
   },
   "outputs": [
    {
     "data": {
      "text/plain": [
       "array([2.22044605e-16-5.55111512e-17j, 4.44089210e-16-2.77555756e-16j,\n",
       "       4.44089210e-16+1.38777878e-16j])"
      ]
     },
     "execution_count": 27,
     "metadata": {},
     "output_type": "execute_result"
    }
   ],
   "source": [
    "A_sym_c@x_sym_c-b"
   ]
  },
  {
   "cell_type": "code",
   "execution_count": 28,
   "metadata": {
    "colab": {},
    "colab_type": "code",
    "id": "xmTkn9yc6C3i"
   },
   "outputs": [
    {
     "data": {
      "text/plain": [
       "array([1.-5.55111512e-17j, 1.-2.77555756e-16j, 1.+1.38777878e-16j])"
      ]
     },
     "execution_count": 28,
     "metadata": {},
     "output_type": "execute_result"
    }
   ],
   "source": [
    "A_sym_c@x_sym_c"
   ]
  },
  {
   "cell_type": "code",
   "execution_count": 29,
   "metadata": {
    "colab": {},
    "colab_type": "code",
    "id": "aKv_EYpB6gjq"
   },
   "outputs": [
    {
     "data": {
      "text/plain": [
       "array([0.11111111+1.11111111e-01j, 0.33333333-1.11111111e-01j,\n",
       "       0.11111111+1.11022302e-16j])"
      ]
     },
     "execution_count": 29,
     "metadata": {},
     "output_type": "execute_result"
    }
   ],
   "source": [
    "x_her = linalg.solve(A_her, b, assume_a=\"her\")\n",
    "x_her"
   ]
  },
  {
   "cell_type": "code",
   "execution_count": 30,
   "metadata": {
    "colab": {},
    "colab_type": "code",
    "id": "iPltQWL17Kfe"
   },
   "outputs": [
    {
     "data": {
      "text/plain": [
       "array([ 0.00000000e+00+5.55111512e-17j, -4.44089210e-16+1.94289029e-16j,\n",
       "        2.22044605e-16-1.66533454e-16j])"
      ]
     },
     "execution_count": 30,
     "metadata": {},
     "output_type": "execute_result"
    }
   ],
   "source": [
    "A_her@x_her-b"
   ]
  },
  {
   "cell_type": "code",
   "execution_count": 31,
   "metadata": {
    "colab": {},
    "colab_type": "code",
    "id": "5ClME2qx73pb"
   },
   "outputs": [
    {
     "data": {
      "text/plain": [
       "array([1.+5.55111512e-17j, 1.+1.94289029e-16j, 1.-1.66533454e-16j])"
      ]
     },
     "execution_count": 31,
     "metadata": {},
     "output_type": "execute_result"
    }
   ],
   "source": [
    "A_her@x_her"
   ]
  },
  {
   "cell_type": "code",
   "execution_count": 32,
   "metadata": {
    "colab": {},
    "colab_type": "code",
    "id": "Goa2jlUc7QAP"
   },
   "outputs": [
    {
     "data": {
      "text/plain": [
       "array([1.5, 2. , 1.5])"
      ]
     },
     "execution_count": 32,
     "metadata": {},
     "output_type": "execute_result"
    }
   ],
   "source": [
    "x_pos = linalg.solve(A_pos, b, assume_a=\"pos\")\n",
    "x_pos"
   ]
  },
  {
   "cell_type": "code",
   "execution_count": 33,
   "metadata": {
    "colab": {},
    "colab_type": "code",
    "id": "dHHDpxgA7nUB"
   },
   "outputs": [
    {
     "data": {
      "text/plain": [
       "array([-8.88178420e-16,  1.55431223e-15, -4.44089210e-16])"
      ]
     },
     "execution_count": 33,
     "metadata": {},
     "output_type": "execute_result"
    }
   ],
   "source": [
    "A_pos@x_pos-b"
   ]
  },
  {
   "cell_type": "code",
   "execution_count": 34,
   "metadata": {
    "colab": {},
    "colab_type": "code",
    "id": "TYmQ6w997s-C"
   },
   "outputs": [
    {
     "data": {
      "text/plain": [
       "array([1., 1., 1.])"
      ]
     },
     "execution_count": 34,
     "metadata": {},
     "output_type": "execute_result"
    }
   ],
   "source": [
    "A_pos@x_pos"
   ]
  },
  {
   "cell_type": "code",
   "execution_count": 35,
   "metadata": {
    "colab": {},
    "colab_type": "code",
    "id": "AITdk36D_KoG"
   },
   "outputs": [
    {
     "data": {
      "text/plain": [
       "array([0., 0., 0.])"
      ]
     },
     "execution_count": 35,
     "metadata": {},
     "output_type": "execute_result"
    }
   ],
   "source": [
    "zr_3 = np.zeros((3,), dtype=np.float64)\n",
    "zr_3"
   ]
  },
  {
   "cell_type": "code",
   "execution_count": 36,
   "metadata": {
    "colab": {},
    "colab_type": "code",
    "id": "VHSxMiSX_gHq"
   },
   "outputs": [
    {
     "data": {
      "text/plain": [
       "True"
      ]
     },
     "execution_count": 36,
     "metadata": {},
     "output_type": "execute_result"
    }
   ],
   "source": [
    "bool_close = np.allclose(A_pos@x_pos-b, zr_3)\n",
    "bool_close"
   ]
  },
  {
   "cell_type": "markdown",
   "metadata": {
    "colab_type": "text",
    "id": "fo_As0rw8QJV"
   },
   "source": [
    "### 역행렬 연산 대상행렬 A가 삼각행렬인 경우"
   ]
  },
  {
   "cell_type": "code",
   "execution_count": 37,
   "metadata": {
    "colab": {},
    "colab_type": "code",
    "id": "LGRQIZY87zlG"
   },
   "outputs": [
    {
     "name": "stdout",
     "output_type": "stream",
     "text": [
      "A4 = \n",
      " [[ 1.  0.  0.  0.]\n",
      " [ 1.  4.  0.  0.]\n",
      " [ 5.  0.  1.  0.]\n",
      " [ 8.  1. -2.  2.]]\n",
      "\n",
      "b4 = \n",
      " [1. 2. 3. 4.]\n"
     ]
    }
   ],
   "source": [
    "A4 = np.array([[1,0,0,0],[1,4,0,0],[5,0,1,0],[8,1,-2,2]],dtype=np.float64) # 행렬 A는 하삼각행렬\n",
    "b4 = np.array([1,2,3,4],dtype=np.float64)\n",
    "print('A4 = \\n', A4)\n",
    "print()\n",
    "print('b4 = \\n', b4)"
   ]
  },
  {
   "cell_type": "code",
   "execution_count": 38,
   "metadata": {
    "colab": {},
    "colab_type": "code",
    "id": "FQ75wmKo895i"
   },
   "outputs": [
    {
     "data": {
      "text/plain": [
       "array([ 1.   ,  0.25 , -2.   , -4.125])"
      ]
     },
     "execution_count": 38,
     "metadata": {},
     "output_type": "execute_result"
    }
   ],
   "source": [
    "x4 = linalg.solve_triangular(A4, b4, lower=True) # default option은 lower=False\n",
    "x4"
   ]
  },
  {
   "cell_type": "code",
   "execution_count": 39,
   "metadata": {
    "colab": {},
    "colab_type": "code",
    "id": "_4UwPtF89hXe"
   },
   "outputs": [
    {
     "data": {
      "text/plain": [
       "array([1., 2., 3., 4.])"
      ]
     },
     "execution_count": 39,
     "metadata": {},
     "output_type": "execute_result"
    }
   ],
   "source": [
    "A4@x4"
   ]
  },
  {
   "cell_type": "code",
   "execution_count": 40,
   "metadata": {
    "colab": {},
    "colab_type": "code",
    "id": "vdJWIyrA96lC"
   },
   "outputs": [
    {
     "data": {
      "text/plain": [
       "array([0., 0., 0., 0.])"
      ]
     },
     "execution_count": 40,
     "metadata": {},
     "output_type": "execute_result"
    }
   ],
   "source": [
    "zr_4 = np.zeros((4,), dtype=np.float64)\n",
    "zr_4"
   ]
  },
  {
   "cell_type": "code",
   "execution_count": 41,
   "metadata": {
    "colab": {},
    "colab_type": "code",
    "id": "urcaDhppAJci"
   },
   "outputs": [
    {
     "data": {
      "text/plain": [
       "True"
      ]
     },
     "execution_count": 41,
     "metadata": {},
     "output_type": "execute_result"
    }
   ],
   "source": [
    "bool_close = np.allclose(A4@x4-b4, zr_4)\n",
    "bool_close"
   ]
  },
  {
   "cell_type": "markdown",
   "metadata": {},
   "source": [
    "### 삼각행렬: 상삼각행렬, 하삼각행렬"
   ]
  },
  {
   "cell_type": "code",
   "execution_count": 42,
   "metadata": {},
   "outputs": [
    {
     "data": {
      "text/plain": [
       "array([[5, 5, 1],\n",
       "       [8, 2, 1],\n",
       "       [9, 7, 5]])"
      ]
     },
     "execution_count": 42,
     "metadata": {},
     "output_type": "execute_result"
    }
   ],
   "source": [
    "E = np.random.randint(1, 10, 9).reshape(3, 3)\n",
    "E"
   ]
  },
  {
   "cell_type": "markdown",
   "metadata": {},
   "source": [
    "### 상삼각행렬"
   ]
  },
  {
   "cell_type": "code",
   "execution_count": 43,
   "metadata": {},
   "outputs": [
    {
     "data": {
      "text/plain": [
       "array([[5, 5, 1],\n",
       "       [0, 2, 1],\n",
       "       [0, 0, 5]])"
      ]
     },
     "execution_count": 43,
     "metadata": {},
     "output_type": "execute_result"
    }
   ],
   "source": [
    "np.triu(E)"
   ]
  },
  {
   "cell_type": "code",
   "execution_count": 44,
   "metadata": {},
   "outputs": [
    {
     "data": {
      "text/plain": [
       "array([[5, 5, 1],\n",
       "       [0, 2, 1],\n",
       "       [0, 0, 5]])"
      ]
     },
     "execution_count": 44,
     "metadata": {},
     "output_type": "execute_result"
    }
   ],
   "source": [
    "np.triu(E, k=0)"
   ]
  },
  {
   "cell_type": "code",
   "execution_count": 45,
   "metadata": {},
   "outputs": [
    {
     "data": {
      "text/plain": [
       "array([[0, 5, 1],\n",
       "       [0, 0, 1],\n",
       "       [0, 0, 0]])"
      ]
     },
     "execution_count": 45,
     "metadata": {},
     "output_type": "execute_result"
    }
   ],
   "source": [
    "np.triu(E, k=1)"
   ]
  },
  {
   "cell_type": "code",
   "execution_count": 46,
   "metadata": {},
   "outputs": [
    {
     "data": {
      "text/plain": [
       "array([[0, 0, 1],\n",
       "       [0, 0, 0],\n",
       "       [0, 0, 0]])"
      ]
     },
     "execution_count": 46,
     "metadata": {},
     "output_type": "execute_result"
    }
   ],
   "source": [
    "np.triu(E, k=2)"
   ]
  },
  {
   "cell_type": "markdown",
   "metadata": {},
   "source": [
    "### 하삼각행렬"
   ]
  },
  {
   "cell_type": "code",
   "execution_count": 47,
   "metadata": {},
   "outputs": [
    {
     "data": {
      "text/plain": [
       "array([[5, 0, 0],\n",
       "       [8, 2, 0],\n",
       "       [9, 7, 5]])"
      ]
     },
     "execution_count": 47,
     "metadata": {},
     "output_type": "execute_result"
    }
   ],
   "source": [
    "np.tril(E)"
   ]
  },
  {
   "cell_type": "code",
   "execution_count": 48,
   "metadata": {},
   "outputs": [
    {
     "data": {
      "text/plain": [
       "array([[5, 0, 0],\n",
       "       [8, 2, 0],\n",
       "       [9, 7, 5]])"
      ]
     },
     "execution_count": 48,
     "metadata": {},
     "output_type": "execute_result"
    }
   ],
   "source": [
    "np.tril(E, k=0)"
   ]
  },
  {
   "cell_type": "code",
   "execution_count": 49,
   "metadata": {},
   "outputs": [
    {
     "data": {
      "text/plain": [
       "array([[5, 5, 0],\n",
       "       [8, 2, 1],\n",
       "       [9, 7, 5]])"
      ]
     },
     "execution_count": 49,
     "metadata": {},
     "output_type": "execute_result"
    }
   ],
   "source": [
    "np.tril(E, k=1)"
   ]
  },
  {
   "cell_type": "code",
   "execution_count": 50,
   "metadata": {},
   "outputs": [
    {
     "data": {
      "text/plain": [
       "array([[0, 0, 0],\n",
       "       [8, 0, 0],\n",
       "       [9, 7, 0]])"
      ]
     },
     "execution_count": 50,
     "metadata": {},
     "output_type": "execute_result"
    }
   ],
   "source": [
    "np.tril(E, k=-1)"
   ]
  },
  {
   "cell_type": "markdown",
   "metadata": {
    "colab_type": "text",
    "id": "fNxpfHj8GqO4"
   },
   "source": [
    "### LU 분해: A = PLU 여기서 P: 치환행렬(permutation matrix), L: 대각원소가 1인 하삼각행렬, U: 상삼각행렬"
   ]
  },
  {
   "cell_type": "code",
   "execution_count": 51,
   "metadata": {
    "colab": {},
    "colab_type": "code",
    "id": "C7p2PBisGwph"
   },
   "outputs": [
    {
     "name": "stdout",
     "output_type": "stream",
     "text": [
      "A5 = \n",
      " [[ 2.  4. -1.  5. -2.]\n",
      " [-4. -5.  3. -8.  1.]\n",
      " [ 2. -5. -4.  1.  8.]\n",
      " [-6.  0.  7. -3.  1.]]\n"
     ]
    }
   ],
   "source": [
    "# https://docs.scipy.org/doc/scipy/reference/generated/scipy.linalg.lu.html\n",
    "# http://elearning.kocw.net/contents4/document/lec/2013/Chungbuk/LeeGeonmyeong1/7.pdf\n",
    "\n",
    "A5 = np.array([[2,4,-1,5,-2],[-4,-5,3,-8,1],[2,-5,-4,1,8],[-6,0,7,-3,1]], dtype=np.float64)\n",
    "print('A5 = \\n', A5)"
   ]
  },
  {
   "cell_type": "code",
   "execution_count": 52,
   "metadata": {
    "colab": {},
    "colab_type": "code",
    "id": "-iF2EP4XHtyv"
   },
   "outputs": [
    {
     "name": "stdout",
     "output_type": "stream",
     "text": [
      "L = \n",
      " [[ 1.          0.          0.          0.        ]\n",
      " [ 0.66666667  1.          0.          0.        ]\n",
      " [-0.33333333  1.          1.          0.        ]\n",
      " [-0.33333333 -0.8         0.13333333  1.        ]]\n",
      "\n",
      "U = \n",
      " [[-6.00000000e+00  0.00000000e+00  7.00000000e+00 -3.00000000e+00\n",
      "   1.00000000e+00]\n",
      " [ 0.00000000e+00 -5.00000000e+00 -1.66666667e+00 -6.00000000e+00\n",
      "   3.33333333e-01]\n",
      " [ 0.00000000e+00  0.00000000e+00 -2.22044605e-16  6.00000000e+00\n",
      "   8.00000000e+00]\n",
      " [ 0.00000000e+00  0.00000000e+00  0.00000000e+00 -1.60000000e+00\n",
      "  -2.46666667e+00]]\n"
     ]
    }
   ],
   "source": [
    "P, L, U = linalg.lu(A5)\n",
    "\n",
    "print('L = \\n', L)\n",
    "print()\n",
    "print('U = \\n', U)"
   ]
  },
  {
   "cell_type": "code",
   "execution_count": 53,
   "metadata": {
    "colab": {},
    "colab_type": "code",
    "id": "GwDBmww-IJS5"
   },
   "outputs": [
    {
     "name": "stdout",
     "output_type": "stream",
     "text": [
      "A5 = \n",
      " [[ 2.  4. -1.  5. -2.]\n",
      " [-4. -5.  3. -8.  1.]\n",
      " [ 2. -5. -4.  1.  8.]\n",
      " [-6.  0.  7. -3.  1.]]\n",
      "\n",
      "LU = \n",
      " [[-6.  0.  7. -3.  1.]\n",
      " [-4. -5.  3. -8.  1.]\n",
      " [ 2. -5. -4.  1.  8.]\n",
      " [ 2.  4. -1.  5. -2.]]\n"
     ]
    }
   ],
   "source": [
    "print('A5 = \\n', A5)\n",
    "print()\n",
    "print('LU = \\n', L@U)"
   ]
  },
  {
   "cell_type": "code",
   "execution_count": 54,
   "metadata": {
    "colab": {},
    "colab_type": "code",
    "id": "57VIEh9EIYaX"
   },
   "outputs": [
    {
     "name": "stdout",
     "output_type": "stream",
     "text": [
      "P = \n",
      " [[0. 0. 0. 1.]\n",
      " [0. 1. 0. 0.]\n",
      " [0. 0. 1. 0.]\n",
      " [1. 0. 0. 0.]]\n",
      "\n",
      "PLU = \n",
      " [[ 2.  4. -1.  5. -2.]\n",
      " [-4. -5.  3. -8.  1.]\n",
      " [ 2. -5. -4.  1.  8.]\n",
      " [-6.  0.  7. -3.  1.]]\n",
      "\n",
      "A5 = \n",
      " [[ 2.  4. -1.  5. -2.]\n",
      " [-4. -5.  3. -8.  1.]\n",
      " [ 2. -5. -4.  1.  8.]\n",
      " [-6.  0.  7. -3.  1.]]\n"
     ]
    }
   ],
   "source": [
    "print('P = \\n', P)\n",
    "print()\n",
    "print('PLU = \\n', P@L@U)\n",
    "print()\n",
    "print('A5 = \\n', A5)"
   ]
  },
  {
   "cell_type": "code",
   "execution_count": 55,
   "metadata": {
    "colab": {},
    "colab_type": "code",
    "id": "jKRkajVQK7Ug"
   },
   "outputs": [
    {
     "name": "stdout",
     "output_type": "stream",
     "text": [
      "A6 = \n",
      " [[7. 5. 6. 6.]\n",
      " [1. 2. 2. 8.]\n",
      " [5. 4. 4. 8.]\n",
      " [9. 5. 8. 7.]]\n"
     ]
    }
   ],
   "source": [
    "A6 = np.array([[7,5,6,6],[1,2,2,8],[5,4,4,8],[9,5,8,7]], dtype=np.float64)\n",
    "print('A6 = \\n', A6)"
   ]
  },
  {
   "cell_type": "code",
   "execution_count": 56,
   "metadata": {
    "colab": {},
    "colab_type": "code",
    "id": "10p78mWZLO40"
   },
   "outputs": [
    {
     "name": "stdout",
     "output_type": "stream",
     "text": [
      "lu = \n",
      " [[ 9.          5.          8.          7.        ]\n",
      " [ 0.11111111  1.44444444  1.11111111  7.22222222]\n",
      " [ 0.55555556  0.84615385 -1.38461538 -2.        ]\n",
      " [ 0.77777778  0.76923077  0.77777778 -3.44444444]]\n"
     ]
    }
   ],
   "source": [
    "# https://docs.scipy.org/doc/scipy/reference/generated/scipy.linalg.lu_factor.html\n",
    "\n",
    "lu, piv = linalg.lu_factor(A6)\n",
    "print('lu = \\n', lu)"
   ]
  },
  {
   "cell_type": "code",
   "execution_count": 57,
   "metadata": {
    "colab": {},
    "colab_type": "code",
    "id": "XgoRNyAALXdi"
   },
   "outputs": [
    {
     "name": "stdout",
     "output_type": "stream",
     "text": [
      "L = \n",
      " [[1.         0.         0.         0.        ]\n",
      " [0.11111111 1.         0.         0.        ]\n",
      " [0.55555556 0.84615385 1.         0.        ]\n",
      " [0.77777778 0.76923077 0.77777778 1.        ]]\n"
     ]
    }
   ],
   "source": [
    "L = np.tril(lu, k=-1) + np.identity(4)\n",
    "print('L = \\n' ,L)"
   ]
  },
  {
   "cell_type": "code",
   "execution_count": 58,
   "metadata": {
    "colab": {},
    "colab_type": "code",
    "id": "VLGFEmPPLt3X"
   },
   "outputs": [
    {
     "name": "stdout",
     "output_type": "stream",
     "text": [
      "U = \n",
      " [[ 9.          5.          8.          7.        ]\n",
      " [ 0.          1.44444444  1.11111111  7.22222222]\n",
      " [ 0.          0.         -1.38461538 -2.        ]\n",
      " [ 0.          0.          0.         -3.44444444]]\n"
     ]
    }
   ],
   "source": [
    "U = np.triu(lu)\n",
    "print('U = \\n', U)"
   ]
  },
  {
   "cell_type": "code",
   "execution_count": 59,
   "metadata": {
    "colab": {},
    "colab_type": "code",
    "id": "kUH48f9UMRY_"
   },
   "outputs": [
    {
     "name": "stdout",
     "output_type": "stream",
     "text": [
      "A6 = \n",
      " [[7. 5. 6. 6.]\n",
      " [1. 2. 2. 8.]\n",
      " [5. 4. 4. 8.]\n",
      " [9. 5. 8. 7.]]\n"
     ]
    }
   ],
   "source": [
    "print('A6 = \\n', A6)"
   ]
  },
  {
   "cell_type": "code",
   "execution_count": 60,
   "metadata": {
    "colab": {},
    "colab_type": "code",
    "id": "3AMNK_39MTxI"
   },
   "outputs": [
    {
     "name": "stdout",
     "output_type": "stream",
     "text": [
      "LU = \n",
      " [[9. 5. 8. 7.]\n",
      " [1. 2. 2. 8.]\n",
      " [5. 4. 4. 8.]\n",
      " [7. 5. 6. 6.]]\n"
     ]
    }
   ],
   "source": [
    "print('LU = \\n', L@U)"
   ]
  },
  {
   "cell_type": "code",
   "execution_count": 61,
   "metadata": {
    "colab": {},
    "colab_type": "code",
    "id": "OZHedumOMZOx"
   },
   "outputs": [
    {
     "name": "stdout",
     "output_type": "stream",
     "text": [
      "piv = \n",
      " [3 1 2 3]\n"
     ]
    }
   ],
   "source": [
    "print('piv = \\n', piv)"
   ]
  },
  {
   "cell_type": "markdown",
   "metadata": {
    "colab_type": "text",
    "id": "mgkJYRxwDjAC"
   },
   "source": [
    "### Ax=b 풀기"
   ]
  },
  {
   "cell_type": "code",
   "execution_count": 62,
   "metadata": {
    "colab": {},
    "colab_type": "code",
    "id": "0y2PHpQeAZtE"
   },
   "outputs": [
    {
     "name": "stdout",
     "output_type": "stream",
     "text": [
      "b6 = \n",
      " [1. 1. 1. 1.]\n"
     ]
    }
   ],
   "source": [
    "b6 = np.ones((4,), dtype=np.float64)\n",
    "print('b6 = \\n', b6)"
   ]
  },
  {
   "cell_type": "code",
   "execution_count": 63,
   "metadata": {
    "colab": {},
    "colab_type": "code",
    "id": "9smD8sd9NKS-"
   },
   "outputs": [
    {
     "name": "stdout",
     "output_type": "stream",
     "text": [
      "x6 = \n",
      " [-0.16129032  0.19354839  0.12903226  0.06451613]\n"
     ]
    }
   ],
   "source": [
    "x6 = linalg.lu_solve((lu,piv), b6)\n",
    "print('x6 = \\n', x6)"
   ]
  },
  {
   "cell_type": "code",
   "execution_count": 64,
   "metadata": {
    "colab": {},
    "colab_type": "code",
    "id": "GqVL3mHrNl7K"
   },
   "outputs": [
    {
     "name": "stdout",
     "output_type": "stream",
     "text": [
      "True\n"
     ]
    }
   ],
   "source": [
    "print(np.allclose(A6@x6, b6))"
   ]
  },
  {
   "cell_type": "markdown",
   "metadata": {},
   "source": [
    "## 고유값, 고유벡터"
   ]
  },
  {
   "cell_type": "code",
   "execution_count": 65,
   "metadata": {},
   "outputs": [
    {
     "name": "stdout",
     "output_type": "stream",
     "text": [
      "A = \n",
      " [[4. 2.]\n",
      " [3. 5.]]\n"
     ]
    }
   ],
   "source": [
    "A = np.array([[4, 2],[3, 5]], dtype=np.float64)\n",
    "\n",
    "print('A = \\n', A)"
   ]
  },
  {
   "cell_type": "code",
   "execution_count": 66,
   "metadata": {},
   "outputs": [
    {
     "name": "stdout",
     "output_type": "stream",
     "text": [
      "eigen values = \n",
      " [2.+0.j 7.+0.j]\n",
      "\n",
      "eigen vectors = \n",
      " [[-0.70710678 -0.5547002 ]\n",
      " [ 0.70710678 -0.83205029]]\n"
     ]
    }
   ],
   "source": [
    "eigvals, eigvecs = linalg.eig(A)\n",
    "print('eigen values = \\n', eigvals)\n",
    "print()\n",
    "print('eigen vectors = \\n', eigvecs)"
   ]
  },
  {
   "cell_type": "code",
   "execution_count": 67,
   "metadata": {},
   "outputs": [
    {
     "name": "stdout",
     "output_type": "stream",
     "text": [
      "0.9999999999999999\n"
     ]
    }
   ],
   "source": [
    "v1 = eigvecs[:,0]\n",
    "n_v1 = linalg.norm(v1)\n",
    "\n",
    "print(n_v1)"
   ]
  },
  {
   "cell_type": "code",
   "execution_count": 68,
   "metadata": {},
   "outputs": [
    {
     "name": "stdout",
     "output_type": "stream",
     "text": [
      "True\n"
     ]
    }
   ],
   "source": [
    "print(np.allclose(1, n_v1))"
   ]
  },
  {
   "cell_type": "code",
   "execution_count": 69,
   "metadata": {},
   "outputs": [
    {
     "name": "stdout",
     "output_type": "stream",
     "text": [
      "True\n"
     ]
    }
   ],
   "source": [
    "comp1 = A @ eigvecs\n",
    "comp2 = eigvecs * eigvals\n",
    "\n",
    "print(np.allclose(comp1, comp2))"
   ]
  }
 ],
 "metadata": {
  "colab": {
   "collapsed_sections": [],
   "name": "2019_04_08.ipynb",
   "provenance": [],
   "version": "0.3.2"
  },
  "kernelspec": {
   "display_name": "Python 3 (ipykernel)",
   "language": "python",
   "name": "python3"
  },
  "language_info": {
   "codemirror_mode": {
    "name": "ipython",
    "version": 3
   },
   "file_extension": ".py",
   "mimetype": "text/x-python",
   "name": "python",
   "nbconvert_exporter": "python",
   "pygments_lexer": "ipython3",
   "version": "3.11.5"
  }
 },
 "nbformat": 4,
 "nbformat_minor": 1
}
