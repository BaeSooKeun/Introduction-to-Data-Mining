{
 "cells": [
  {
   "cell_type": "markdown",
   "id": "faa8c4ba",
   "metadata": {},
   "source": [
    "### Python 버전 확인"
   ]
  },
  {
   "cell_type": "code",
   "execution_count": 1,
   "id": "41b32ece",
   "metadata": {},
   "outputs": [
    {
     "name": "stdout",
     "output_type": "stream",
     "text": [
      "Python 3.11.5\n"
     ]
    }
   ],
   "source": [
    "!python --version"
   ]
  },
  {
   "cell_type": "markdown",
   "id": "ee9926d3",
   "metadata": {},
   "source": [
    "### [type] int, float, str"
   ]
  },
  {
   "cell_type": "code",
   "execution_count": 2,
   "id": "9066dcb1",
   "metadata": {},
   "outputs": [],
   "source": [
    "a = 1\n",
    "b = -1\n",
    "c = 1.3\n",
    "d = 4.5"
   ]
  },
  {
   "cell_type": "code",
   "execution_count": 3,
   "id": "be30ea55",
   "metadata": {},
   "outputs": [
    {
     "name": "stdout",
     "output_type": "stream",
     "text": [
      "1 <class 'int'>\n",
      "4.5 <class 'float'>\n"
     ]
    }
   ],
   "source": [
    "print(a, type(a))\n",
    "print(d, type(d))"
   ]
  },
  {
   "cell_type": "code",
   "execution_count": 4,
   "id": "1e2d5d21",
   "metadata": {},
   "outputs": [
    {
     "name": "stdout",
     "output_type": "stream",
     "text": [
      "0 <class 'int'>\n"
     ]
    }
   ],
   "source": [
    "sum_int = a + b\n",
    "print(sum_int, type(sum_int))"
   ]
  },
  {
   "cell_type": "code",
   "execution_count": 5,
   "id": "52ee44e4",
   "metadata": {},
   "outputs": [
    {
     "name": "stdout",
     "output_type": "stream",
     "text": [
      "5.8 <class 'float'>\n"
     ]
    }
   ],
   "source": [
    "sum_float = c + d\n",
    "print(sum_float, type(sum_float))"
   ]
  },
  {
   "cell_type": "code",
   "execution_count": 6,
   "id": "1b660bb7",
   "metadata": {},
   "outputs": [],
   "source": [
    "e = 'deep '\n",
    "f = 'learning'"
   ]
  },
  {
   "cell_type": "code",
   "execution_count": 7,
   "id": "60b41be8",
   "metadata": {},
   "outputs": [
    {
     "name": "stdout",
     "output_type": "stream",
     "text": [
      "deep  <class 'str'>\n"
     ]
    }
   ],
   "source": [
    "print(e, type(e))"
   ]
  },
  {
   "cell_type": "code",
   "execution_count": 8,
   "id": "86989e35",
   "metadata": {},
   "outputs": [
    {
     "name": "stdout",
     "output_type": "stream",
     "text": [
      "deep learning <class 'str'>\n"
     ]
    }
   ],
   "source": [
    "sum_str = e + f\n",
    "print(sum_str, type(sum_str))"
   ]
  },
  {
   "cell_type": "markdown",
   "id": "f8fcd1ee",
   "metadata": {},
   "source": [
    "### [type] bool"
   ]
  },
  {
   "cell_type": "code",
   "execution_count": 9,
   "id": "0586b09b",
   "metadata": {},
   "outputs": [],
   "source": [
    "g = True\n",
    "h = False"
   ]
  },
  {
   "cell_type": "code",
   "execution_count": 10,
   "id": "3b4b35f3",
   "metadata": {},
   "outputs": [
    {
     "name": "stdout",
     "output_type": "stream",
     "text": [
      "True <class 'bool'>\n"
     ]
    }
   ],
   "source": [
    "print(g, type(g))"
   ]
  },
  {
   "cell_type": "code",
   "execution_count": 11,
   "id": "c2241230",
   "metadata": {},
   "outputs": [
    {
     "name": "stdout",
     "output_type": "stream",
     "text": [
      "1 <class 'int'>\n"
     ]
    }
   ],
   "source": [
    "sum_bool = g + h\n",
    "print(sum_bool, type(sum_bool))"
   ]
  },
  {
   "cell_type": "markdown",
   "id": "fcaeddfa",
   "metadata": {},
   "source": [
    "### type 바꾸기"
   ]
  },
  {
   "cell_type": "code",
   "execution_count": 12,
   "id": "75c13e10",
   "metadata": {},
   "outputs": [],
   "source": [
    "i = 7\n",
    "j = '7'"
   ]
  },
  {
   "cell_type": "code",
   "execution_count": 13,
   "id": "d47471c8",
   "metadata": {},
   "outputs": [
    {
     "name": "stdout",
     "output_type": "stream",
     "text": [
      "7 <class 'int'>\n",
      "7 <class 'str'>\n"
     ]
    }
   ],
   "source": [
    "print(i, type(i))\n",
    "print(j, type(j))"
   ]
  },
  {
   "cell_type": "code",
   "execution_count": 14,
   "id": "11a1cb69",
   "metadata": {},
   "outputs": [],
   "source": [
    "k = str(i)\n",
    "l = int(j)"
   ]
  },
  {
   "cell_type": "code",
   "execution_count": 15,
   "id": "ba850b51",
   "metadata": {},
   "outputs": [
    {
     "name": "stdout",
     "output_type": "stream",
     "text": [
      "7 <class 'str'>\n",
      "7 <class 'int'>\n"
     ]
    }
   ],
   "source": [
    "print(k, type(k))\n",
    "print(l, type(l))"
   ]
  },
  {
   "cell_type": "markdown",
   "id": "024faff9",
   "metadata": {},
   "source": [
    "### [자료구조] list"
   ]
  },
  {
   "cell_type": "code",
   "execution_count": 16,
   "id": "63ae124c",
   "metadata": {},
   "outputs": [],
   "source": [
    "m = [1, 2, 3, 4]"
   ]
  },
  {
   "cell_type": "code",
   "execution_count": 17,
   "id": "8ade02e8",
   "metadata": {},
   "outputs": [
    {
     "name": "stdout",
     "output_type": "stream",
     "text": [
      "[1, 2, 3, 4] <class 'list'>\n"
     ]
    }
   ],
   "source": [
    "print(m, type(m))"
   ]
  },
  {
   "cell_type": "code",
   "execution_count": 18,
   "id": "964773e4",
   "metadata": {},
   "outputs": [
    {
     "name": "stdout",
     "output_type": "stream",
     "text": [
      "1\n",
      "4\n"
     ]
    }
   ],
   "source": [
    "print(m[0])\n",
    "print(m[-1])"
   ]
  },
  {
   "cell_type": "code",
   "execution_count": 19,
   "id": "dc58894c",
   "metadata": {},
   "outputs": [
    {
     "name": "stdout",
     "output_type": "stream",
     "text": [
      "[1, 2]\n",
      "[2, 3]\n",
      "[3, 4]\n"
     ]
    }
   ],
   "source": [
    "print(m[:2])\n",
    "print(m[1:-1])\n",
    "print(m[2:])"
   ]
  },
  {
   "cell_type": "markdown",
   "id": "c641a21e",
   "metadata": {},
   "source": [
    "### [자료구조] tuple"
   ]
  },
  {
   "cell_type": "code",
   "execution_count": 20,
   "id": "5fe022d5",
   "metadata": {},
   "outputs": [
    {
     "name": "stdout",
     "output_type": "stream",
     "text": [
      "(8, 9) <class 'tuple'>\n"
     ]
    }
   ],
   "source": [
    "n = (8, 9)\n",
    "print(n, type(n))"
   ]
  },
  {
   "cell_type": "code",
   "execution_count": 21,
   "id": "a4f9182d",
   "metadata": {},
   "outputs": [
    {
     "name": "stdout",
     "output_type": "stream",
     "text": [
      "9\n",
      "9\n",
      "(8, 9)\n"
     ]
    }
   ],
   "source": [
    "print(n[1])\n",
    "print(n[-1])\n",
    "print(n[0:])"
   ]
  },
  {
   "cell_type": "markdown",
   "id": "2f83f3de",
   "metadata": {},
   "source": [
    "### [자료구조] dictionary"
   ]
  },
  {
   "cell_type": "code",
   "execution_count": 22,
   "id": "bd5f2704",
   "metadata": {},
   "outputs": [],
   "source": [
    "o = {'lecture':['probability', 'DL'], 'students':[35, 30]}"
   ]
  },
  {
   "cell_type": "code",
   "execution_count": 23,
   "id": "a175acfc",
   "metadata": {},
   "outputs": [
    {
     "name": "stdout",
     "output_type": "stream",
     "text": [
      "{'lecture': ['probability', 'DL'], 'students': [35, 30]} <class 'dict'>\n"
     ]
    }
   ],
   "source": [
    "print(o, type(o))"
   ]
  },
  {
   "cell_type": "code",
   "execution_count": 24,
   "id": "cc17db11",
   "metadata": {},
   "outputs": [
    {
     "name": "stdout",
     "output_type": "stream",
     "text": [
      "['probability', 'DL']\n",
      "[35, 30]\n"
     ]
    }
   ],
   "source": [
    "print(o['lecture'])\n",
    "print(o['students'])"
   ]
  },
  {
   "cell_type": "code",
   "execution_count": 25,
   "id": "9e1164e6",
   "metadata": {},
   "outputs": [
    {
     "name": "stdout",
     "output_type": "stream",
     "text": [
      "DL\n",
      "35\n"
     ]
    }
   ],
   "source": [
    "print(o['lecture'][1])\n",
    "print(o['students'][0])"
   ]
  },
  {
   "cell_type": "code",
   "execution_count": 26,
   "id": "f5382717",
   "metadata": {},
   "outputs": [
    {
     "data": {
      "text/plain": [
       "dict_keys(['lecture', 'students'])"
      ]
     },
     "execution_count": 26,
     "metadata": {},
     "output_type": "execute_result"
    }
   ],
   "source": [
    "o.keys()"
   ]
  },
  {
   "cell_type": "code",
   "execution_count": 27,
   "id": "1f907d93",
   "metadata": {},
   "outputs": [
    {
     "data": {
      "text/plain": [
       "dict_values([['probability', 'DL'], [35, 30]])"
      ]
     },
     "execution_count": 27,
     "metadata": {},
     "output_type": "execute_result"
    }
   ],
   "source": [
    "o.values()"
   ]
  },
  {
   "cell_type": "markdown",
   "id": "27122861",
   "metadata": {},
   "source": [
    "### [자료구조] array"
   ]
  },
  {
   "cell_type": "code",
   "execution_count": 28,
   "id": "0352878c",
   "metadata": {},
   "outputs": [
    {
     "name": "stdout",
     "output_type": "stream",
     "text": [
      "[ 1  2  3  4  5  6  7  8  9 10] <class 'numpy.ndarray'>\n"
     ]
    }
   ],
   "source": [
    "import numpy as np\n",
    "\n",
    "arr = np.array([1, 2, 3, 4, 5, 6, 7, 8, 9, 10])\n",
    "print(arr, type(arr))"
   ]
  },
  {
   "cell_type": "code",
   "execution_count": 29,
   "id": "fd75df17",
   "metadata": {},
   "outputs": [
    {
     "name": "stdout",
     "output_type": "stream",
     "text": [
      "[1. 1. 1. 1. 1. 1. 1. 1. 1. 1.] <class 'numpy.ndarray'>\n"
     ]
    }
   ],
   "source": [
    "p = np.ones(10)\n",
    "print(p, type(p))"
   ]
  },
  {
   "cell_type": "code",
   "execution_count": 30,
   "id": "c9b8ccf7",
   "metadata": {},
   "outputs": [
    {
     "name": "stdout",
     "output_type": "stream",
     "text": [
      "[[0. 0. 0. 0. 0.]\n",
      " [0. 0. 0. 0. 0.]] <class 'numpy.ndarray'>\n"
     ]
    }
   ],
   "source": [
    "q = np.zeros((2, 5))\n",
    "print(q, type(q))"
   ]
  },
  {
   "cell_type": "markdown",
   "id": "6235f3a2",
   "metadata": {},
   "source": [
    "### 조건문"
   ]
  },
  {
   "cell_type": "code",
   "execution_count": 31,
   "id": "d2bf5771",
   "metadata": {},
   "outputs": [
    {
     "name": "stdout",
     "output_type": "stream",
     "text": [
      "3\n",
      "r = 3\n"
     ]
    }
   ],
   "source": [
    "r = int(input())\n",
    "\n",
    "if r == 3:\n",
    "    print('r = 3')\n",
    "else:\n",
    "    print('r != 3')"
   ]
  },
  {
   "cell_type": "code",
   "execution_count": 32,
   "id": "2b9763b9",
   "metadata": {},
   "outputs": [
    {
     "name": "stdout",
     "output_type": "stream",
     "text": [
      "3\n",
      "s = 3\n"
     ]
    }
   ],
   "source": [
    "s = int(input())\n",
    "\n",
    "if s == 1:\n",
    "    print('s = 1')\n",
    "elif s == 2:\n",
    "    print('s = 2')\n",
    "elif s == 3:\n",
    "    print('s = 3')\n",
    "else:\n",
    "    print('Other numbers')"
   ]
  },
  {
   "cell_type": "markdown",
   "id": "465054e3",
   "metadata": {},
   "source": [
    "### 반복문(for)"
   ]
  },
  {
   "cell_type": "code",
   "execution_count": 33,
   "id": "313565b8",
   "metadata": {},
   "outputs": [
    {
     "name": "stdout",
     "output_type": "stream",
     "text": [
      "0\n",
      "1\n",
      "2\n"
     ]
    }
   ],
   "source": [
    "for t in range(3):\n",
    "    print(t)"
   ]
  },
  {
   "cell_type": "markdown",
   "id": "67518f4a",
   "metadata": {},
   "source": [
    "### 반복문(while)"
   ]
  },
  {
   "cell_type": "code",
   "execution_count": 34,
   "id": "293de4f4",
   "metadata": {},
   "outputs": [
    {
     "name": "stdout",
     "output_type": "stream",
     "text": [
      "1\n",
      "2\n",
      "3\n",
      "4\n",
      "5\n",
      "6\n"
     ]
    }
   ],
   "source": [
    "u = 1\n",
    "while u < 7:\n",
    "    print(u)\n",
    "    u += 1"
   ]
  },
  {
   "cell_type": "markdown",
   "id": "bb572b06",
   "metadata": {},
   "source": [
    "### break문"
   ]
  },
  {
   "cell_type": "code",
   "execution_count": 35,
   "id": "a9452b2c",
   "metadata": {},
   "outputs": [
    {
     "name": "stdout",
     "output_type": "stream",
     "text": [
      "[8 4 5 7 4 6 3 7 4 3]\n"
     ]
    }
   ],
   "source": [
    "v = np.random.randint(10, size = 10)\n",
    "print(v)"
   ]
  },
  {
   "cell_type": "code",
   "execution_count": 36,
   "id": "a2173139",
   "metadata": {},
   "outputs": [
    {
     "name": "stdout",
     "output_type": "stream",
     "text": [
      "8 은 짝수입니다.\n"
     ]
    }
   ],
   "source": [
    "for i in v:\n",
    "    if i % 2 == 0:\n",
    "        print(i, '은 짝수입니다.')\n",
    "        break"
   ]
  },
  {
   "cell_type": "markdown",
   "id": "d063e23c",
   "metadata": {},
   "source": [
    "### try-except문"
   ]
  },
  {
   "cell_type": "code",
   "execution_count": 37,
   "id": "114a7833",
   "metadata": {},
   "outputs": [],
   "source": [
    "x = [1, 2, 'panda', 3]"
   ]
  },
  {
   "cell_type": "code",
   "execution_count": 40,
   "id": "c563b361",
   "metadata": {},
   "outputs": [],
   "source": [
    "#에러 예시\n",
    "# for i in x:\n",
    "#     y = i ** 2\n",
    "#     print(y)"
   ]
  },
  {
   "cell_type": "code",
   "execution_count": 39,
   "id": "6cfb9549",
   "metadata": {},
   "outputs": [
    {
     "name": "stdout",
     "output_type": "stream",
     "text": [
      "1\n",
      "4\n",
      "panda 는 숫자가 아닙니다.\n",
      "9\n"
     ]
    }
   ],
   "source": [
    "for i in x:\n",
    "    try:\n",
    "        y = i ** 2\n",
    "        print(y)\n",
    "    except:\n",
    "        print(i, '는 숫자가 아닙니다.')"
   ]
  },
  {
   "cell_type": "code",
   "execution_count": null,
   "id": "961c47eb",
   "metadata": {},
   "outputs": [],
   "source": []
  }
 ],
 "metadata": {
  "kernelspec": {
   "display_name": "Python 3 (ipykernel)",
   "language": "python",
   "name": "python3"
  },
  "language_info": {
   "codemirror_mode": {
    "name": "ipython",
    "version": 3
   },
   "file_extension": ".py",
   "mimetype": "text/x-python",
   "name": "python",
   "nbconvert_exporter": "python",
   "pygments_lexer": "ipython3",
   "version": "3.11.5"
  }
 },
 "nbformat": 4,
 "nbformat_minor": 5
}
